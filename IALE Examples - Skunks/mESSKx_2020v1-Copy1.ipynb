{
 "cells": [
  {
   "cell_type": "markdown",
   "metadata": {},
   "source": [
    "# Eastern Spotted Skunk\n",
    "Author: N. Tarr"
   ]
  },
  {
   "cell_type": "markdown",
   "metadata": {},
   "source": [
    "### Fill out the cell below"
   ]
  },
  {
   "cell_type": "code",
   "execution_count": 1,
   "metadata": {},
   "outputs": [],
   "source": [
    "eval_id = '2020v1'\n",
    "notebook_name = \"mESSKx_2020v1.ipynb\"\n",
    "summary_name = 'eastspot' # a short, memorable name to use for file names etc.\n",
    "\n",
    "# Paths to occurrence record databases to use (from wildlife-wrangler).  Put paths as items in a tuple.\n",
    "recent_dbs = ('P:/Proj3/USGap/Vert/USranges/2020v1/OccRecords/messkx0Gr25Gf10.sqlite',)\n",
    "historic_dbs = ('P:/Proj3/USGap/Vert/USranges/2020v1/OccRecords/messkx0Gr26Gf10.sqlite',)\n",
    "\n",
    "codeDir = 'T:/code/GAP-ranges/'\n",
    "inDir = 'P:/Proj3/USGap/Vert/USRanges/2020v1/2001Ranges/'\n",
    "outDir = 'P:/Proj3/USGap/Vert/USRanges/2020v1/Results/'\n",
    "parameters_db = 'P:/Proj3/USGap/Vert/DBase/ranges-records.sqlite'\n",
    "shucs_loc = 'P:/Proj3/USGap/Vert/Model/data/HucRng/Hucs'"
   ]
  },
  {
   "cell_type": "markdown",
   "metadata": {},
   "source": [
    "There is a bug with mpl_toolkits, the following code is a temp fix, hopefully. https://stackoverflow.com/questions/52911232/basemap-library-using-anaconda-jupyter-notebooks-keyerror-proj-lib/54087410#54087410"
   ]
  },
  {
   "cell_type": "code",
   "execution_count": 2,
   "metadata": {},
   "outputs": [],
   "source": [
    "import os\n",
    "os.environ['PROJ_LIB'] = r'c:\\Users\\nmtarr\\AppData\\Local\\Continuum\\miniconda3\\envs\\wrangler\\Library\\share'"
   ]
  },
  {
   "cell_type": "markdown",
   "metadata": {},
   "source": [
    "### General Setup  -  Nothing to fill out here."
   ]
  },
  {
   "cell_type": "code",
   "execution_count": 3,
   "metadata": {},
   "outputs": [],
   "source": [
    "%matplotlib inline\n",
    "import sqlite3\n",
    "import pprint\n",
    "import pandas as pd\n",
    "pd.set_option('display.width', 600)\n",
    "pd.set_option('display.max_colwidth', 80)\n",
    "pd.set_option('display.max_rows', 100)\n",
    "from IPython.display import Image\n",
    "import os\n",
    "os.chdir(codeDir)\n",
    "import range_functions as functions\n",
    "os.chdir(outDir)\n",
    "import matplotlib.pyplot as plt\n",
    "os.environ['PROJ_LIB'] = r'c:\\Users\\nmtarr\\AppData\\Local\\Continuum\\miniconda3\\envs\\wrangler\\Library\\share'\n",
    "from datetime import datetime\n",
    "t1 = datetime.now()\n",
    "connName = sqlite3.connect(recent_dbs[0])\n",
    "gap_id = connName.execute(\"\"\"SELECT value FROM species_concept WHERE attribute = \"gap_id\";\"\"\").fetchone()[0]\n",
    "common_name = connName.execute(\"\"\"SELECT value FROM species_concept WHERE attribute = \"common_name\";\"\"\").fetchone()[0]\n",
    "sci_name = connName.execute(\"\"\"SELECT value FROM species_concept WHERE attribute = \"scientific_name\";\"\"\").fetchone()[0]\n",
    "del connName\n",
    "eval_db = outDir + gap_id + eval_id + '.sqlite'"
   ]
  },
  {
   "cell_type": "markdown",
   "metadata": {},
   "source": [
    "## Range Compilation Parameters\n",
    "\n",
    "Parameters for range map compilation need to be set and justified in the cells within this section.  Values that are entered here will be used to update cells within the 'evaluations' table stored in ranges-records.sqlite. However, note that the decisions about what parameter values to use are primarily documented here, not in the evaluations database.\n",
    "\n",
    "Also, note that the evaluation ID and species' GAP code are set in the cell above, not below.  This way, sets of evaluation parameters can be documented as unique entities in a database (i.e, range-records.sqlite).  Each evaluation can be given a unique id that can be used in documentation, file naming, and for the names of the columns that will be added to the GAP range table to record the results of the evaluation."
   ]
  },
  {
   "cell_type": "markdown",
   "metadata": {},
   "source": [
    "### Filter Sets\n",
    "The cell below pulls this information from occurrence record databases that were named above.  \n",
    "\n",
    "Notes on why the particular filter sets were used:"
   ]
  },
  {
   "cell_type": "code",
   "execution_count": 4,
   "metadata": {},
   "outputs": [
    {
     "name": "stdout",
     "output_type": "stream",
     "text": [
      "Gf10, Gr25, Gr26\n"
     ]
    }
   ],
   "source": [
    "occ_dbs = recent_dbs + historic_dbs\n",
    "filter_sets, filters_request, filters_post = functions.NB_get_filter_sets(occ_dbs)\n",
    "print(filter_sets)"
   ]
  },
  {
   "cell_type": "markdown",
   "metadata": {},
   "source": [
    "### Years\n",
    "Justification: All available records with somewhat dependable locational information are desired.  GPS became decent around 2000."
   ]
  },
  {
   "cell_type": "code",
   "execution_count": 5,
   "metadata": {},
   "outputs": [],
   "source": [
    "start_year = 2000\n",
    "end_year = 2020\n",
    "years = str(list(range(start_year, end_year + 1, 1)))[1:-1]"
   ]
  },
  {
   "cell_type": "markdown",
   "metadata": {},
   "source": [
    "### Months\n",
    "Justification: Skunks are not migratory so all months are of interest."
   ]
  },
  {
   "cell_type": "code",
   "execution_count": 6,
   "metadata": {},
   "outputs": [],
   "source": [
    "months = \"1,2,3,4,5,6,7,8,9,10,11,12\""
   ]
  },
  {
   "cell_type": "markdown",
   "metadata": {},
   "source": [
    "### Evaluation Method\n",
    "Justification: The restrictive nature of \"proportion\" is a good fit for the demonstration of the framework."
   ]
  },
  {
   "cell_type": "code",
   "execution_count": 7,
   "metadata": {},
   "outputs": [],
   "source": [
    "method = \"proportion\""
   ]
  },
  {
   "cell_type": "markdown",
   "metadata": {},
   "source": [
    "#### Error Tolerance\n",
    "Justification: 20% is a rather modest requirement.  No indication that this species requires anything addressed with this parameter."
   ]
  },
  {
   "cell_type": "code",
   "execution_count": 8,
   "metadata": {},
   "outputs": [],
   "source": [
    "error_tolerance = 20"
   ]
  },
  {
   "cell_type": "markdown",
   "metadata": {},
   "source": [
    "### Credits"
   ]
  },
  {
   "cell_type": "code",
   "execution_count": 9,
   "metadata": {},
   "outputs": [],
   "source": [
    "creator = \"Nathan Tarr\"\n",
    "date = datetime.now()"
   ]
  },
  {
   "cell_type": "markdown",
   "metadata": {},
   "source": [
    "### Justification"
   ]
  },
  {
   "cell_type": "code",
   "execution_count": 10,
   "metadata": {},
   "outputs": [],
   "source": [
    "justification = \"See \" + notebook_name"
   ]
  },
  {
   "cell_type": "markdown",
   "metadata": {},
   "source": [
    "### Notes"
   ]
  },
  {
   "cell_type": "code",
   "execution_count": 11,
   "metadata": {},
   "outputs": [],
   "source": [
    "notes = \"\"\"\"\"\""
   ]
  },
  {
   "cell_type": "markdown",
   "metadata": {},
   "source": [
    "### Write to evaluations.sqlite"
   ]
  },
  {
   "cell_type": "code",
   "execution_count": 12,
   "metadata": {
    "scrolled": false
   },
   "outputs": [],
   "source": [
    "connjup = sqlite3.connect(parameters_db)\n",
    "cursorjup = connjup.cursor()\n",
    "# Make a row for species-evaluation\n",
    "sqlrow = \"\"\"INSERT OR IGNORE INTO evaluations (\"evaluation_id\", \"species_id\") VALUES (?, ?);\"\"\"\n",
    "cursorjup.execute(sqlrow, [eval_id, gap_id])\n",
    "# Filter sets\n",
    "sqlfilters = \"\"\"UPDATE evaluations SET filter_sets=? WHERE evaluation_id=? AND species_id=?;\"\"\"\n",
    "cursorjup.execute(sqlfilters, [filter_sets, eval_id, gap_id])\n",
    "# Years\n",
    "sqlyear = \"\"\"UPDATE evaluations SET years=? WHERE evaluation_id=? AND species_id=?;\"\"\"\n",
    "cursorjup.execute(sqlyear, [years, eval_id, gap_id])\n",
    "# Months\n",
    "sqlmonths = \"\"\"UPDATE evaluations SET months=? WHERE evaluation_id=? AND species_id=?;\"\"\"\n",
    "cursorjup.execute(sqlmonths, [months, eval_id, gap_id])\n",
    "# Evaluation Method\n",
    "sqlmethod = \"\"\"UPDATE evaluations SET method=? WHERE evaluation_id=? AND species_id=?\"\"\"\n",
    "cursorjup.execute(sqlmethod, [method, eval_id, gap_id])\n",
    "# Error Tolerance\n",
    "sqltolerance = \"\"\"UPDATE evaluations SET error_tolerance=? WHERE evaluation_id=? AND species_id=?\"\"\"\n",
    "cursorjup.execute(sqltolerance, [error_tolerance, eval_id, gap_id])\n",
    "# Justification\n",
    "sqljust = \"\"\"UPDATE evaluations SET justification=? WHERE evaluation_id=? AND species_id=?\"\"\"\n",
    "cursorjup.execute(sqljust, [justification, eval_id, gap_id])\n",
    "# Credits\n",
    "sqlcreator = \"\"\"UPDATE evaluations SET creator=? WHERE evaluation_id=? AND species_id=?\"\"\"\n",
    "cursorjup.execute(sqlcreator, [creator, eval_id, gap_id])\n",
    "# Notes\n",
    "sqlnotes = \"\"\"UPDATE evaluations SET notes=? WHERE evaluation_id=? AND species_id=?\"\"\"\n",
    "cursorjup.execute(sqlnotes, [notes, eval_id, gap_id])\n",
    "sqldate= \"\"\"UPDATE evaluations SET date=? WHERE evaluation_id=? AND species_id=?\"\"\"\n",
    "cursorjup.execute(sqldate, [date, eval_id, gap_id])\n",
    "connjup.commit()"
   ]
  },
  {
   "cell_type": "markdown",
   "metadata": {},
   "source": [
    "### Evaluation Parameters\n",
    "Display the record that was just written."
   ]
  },
  {
   "cell_type": "code",
   "execution_count": 13,
   "metadata": {},
   "outputs": [
    {
     "name": "stdout",
     "output_type": "stream",
     "text": [
      "evaluation_id                                                                               2020v1\n",
      "species_id                                                                                  messkx\n",
      "years              2000, 2001, 2002, 2003, 2004, 2005, 2006, 2007, 2008, 2009, 2010, 2011, 2012...\n",
      "months                                                                  1,2,3,4,5,6,7,8,9,10,11,12\n",
      "min_count                                                                                     None\n",
      "error_tolerance                                                                                 20\n",
      "method                                                                                  proportion\n",
      "filter_sets                                                                       Gf10, Gr25, Gr26\n",
      "justification                                                              See mESSKx_2020v1.ipynb\n",
      "creator                                                                                Nathan Tarr\n",
      "date                                                                    2020-05-07 22:01:22.096952\n",
      "notes                                                                                             \n",
      "Name: 0, dtype: object\n"
     ]
    }
   ],
   "source": [
    "df1 = pd.read_sql_query(sql=\"SELECT * FROM evaluations WHERE evaluation_id='{0}' AND species_id='{1}'\".format(eval_id, gap_id), con=connjup)\n",
    "print(df1.loc[0])"
   ]
  },
  {
   "cell_type": "markdown",
   "metadata": {},
   "source": [
    "### Filter Set Info"
   ]
  },
  {
   "cell_type": "code",
   "execution_count": 14,
   "metadata": {},
   "outputs": [
    {
     "name": "stdout",
     "output_type": "stream",
     "text": [
      "                                                                                        0\n",
      "request_id                                                                           Gr25\n",
      "source                                                                               GBIF\n",
      "lat_range                                                                            None\n",
      "lon_range                                                                            None\n",
      "years_range                                                                     2016,2020\n",
      "months_range                                                                         1,12\n",
      "geoissue                                                                            False\n",
      "coordinate                                                                           True\n",
      "country                                                                                US\n",
      "geometry                                                                             None\n",
      "creator                                                                           N. Tarr\n",
      "notes         Built and used for GAP v2 range map development.  Returns \"recent\" records.\n",
      "                                                                                                          0\n",
      "filter_id                                                                                              Gf10\n",
      "dataset                                                                                                GBIF\n",
      "institutions_omit                                                                                      None\n",
      "collection_codes_omit                                                                                  None\n",
      "datasets_omit                                                                                          None\n",
      "has_coordinate_uncertainty                                                                                0\n",
      "max_coordinate_uncertainty                                                                             5000\n",
      "bases_omit                                                                                  FOSSIL_SPECIMEN\n",
      "sampling_protocols_omit                                                                                    \n",
      "issues_omit                 TAXON_MATCH_HIGHERRANK, GEODETIC_DATUM_INVALID, TYPE_STATUS_INVALID, TAXON_M...\n",
      "duplicates_OK                                                                                         False\n",
      "creator                                                                                             N. Tarr\n",
      "notes                                                         For use in creating GAP version 2 range maps.\n",
      "                                                                                 0\n",
      "request_id                                                                    Gr26\n",
      "source                                                                        GBIF\n",
      "lat_range                                                                     None\n",
      "lon_range                                                                     None\n",
      "years_range                                                              2000,2015\n",
      "months_range                                                                  1,12\n",
      "geoissue                                                                     False\n",
      "coordinate                                                                    True\n",
      "country                                                                         US\n",
      "geometry                                                                      None\n",
      "creator                                                                    N. Tarr\n",
      "notes         Built for GAP v2 range map development.  Returns \"historic\" records.\n"
     ]
    }
   ],
   "source": [
    "for db in occ_dbs:\n",
    "    filters2 = filters_request + filters_post\n",
    "    connection = sqlite3.connect(db)\n",
    "    for f in filters2:\n",
    "        try:\n",
    "            set_info = pd.read_sql(sql=\"\"\"SELECT * FROM {0};\"\"\".format(f), con=connection)\n",
    "            set_info = set_info.T.iloc[1:]\n",
    "            set_info.rename({'0': ''}, inplace=True, axis=1)\n",
    "            print(set_info)\n",
    "            filters2.remove(f)\n",
    "        except:\n",
    "            pass\n",
    "    del connection"
   ]
  },
  {
   "cell_type": "markdown",
   "metadata": {},
   "source": [
    "# Occurrence Record Retrieval and Display\n",
    "This repo is dependent upon the wildlife-wrangler repo because occurrence data is retrieved here from sqlite occurrence databases generated with it.  In this section, a connection is established and records are filtered according to the evaluation parameters.  The occurrence record databases were themselves created with filters, so you have to be mindful of how parameters set here compare to ones set there. For example, dates of records included will be determined by whichever process had a more restrictive date range. \n",
    "\n",
    "The first step in using occurrence records to evaluate GAP range is to build a database to hold the GAP 12 digit HUCs, range for the species, and suitable occurrence records.  The database is also suitable for performing the necessary spatial queries.  The GAP range is retrieved from ScienceBase and the HUCs would be too if they were available as a shapefile.  "
   ]
  },
  {
   "cell_type": "code",
   "execution_count": null,
   "metadata": {},
   "outputs": [
    {
     "name": "stdout",
     "output_type": "stream",
     "text": [
      "downloading https://www.sciencebase.gov/catalog/file/get/59f5e210e4b063d5d307dc69?f=__disk__17%2F43%2F19%2F1743190cd0eb3694a196fe7ae0201ba7bd76602e to P:/Proj3/USGap/Vert/USRanges/2020v1/2001Ranges/mESSKx_CONUS_Range_2001v1.zip\n",
      "downloading https://www.sciencebase.gov/catalog/file/get/59f5e210e4b063d5d307dc69?f=__disk__e1%2Fb7%2F57%2Fe1b7576219813f20faea6cfcf101c46e38a46487 to P:/Proj3/USGap/Vert/USRanges/2020v1/2001Ranges/mESSKx_CONUS_Range_2001v1.xml\n"
     ]
    }
   ],
   "source": [
    "gap_range = functions.download_GAP_range_CONUS2001v1(gap_id, inDir)\n",
    "functions.make_evaluation_db(eval_db=eval_db, gap_id=gap_id, shucLoc=shucs_loc, inDir=inDir, outDir=outDir)"
   ]
  },
  {
   "cell_type": "markdown",
   "metadata": {},
   "source": [
    "Copy records to the evaluation database, filtering out records from months or years that aren't wanted."
   ]
  },
  {
   "cell_type": "code",
   "execution_count": null,
   "metadata": {},
   "outputs": [],
   "source": [
    "years = tuple([x.strip() for x in years.split(',')])\n",
    "months = tuple([x.strip().zfill(2) for x in months.split(',')])\n",
    "functions.NB_insert_records(years, months, occ_dbs, summary_name, outDir, eval_db)"
   ]
  },
  {
   "cell_type": "markdown",
   "metadata": {},
   "source": [
    "### Display Occurrence Points and GAP Range Map"
   ]
  },
  {
   "cell_type": "markdown",
   "metadata": {},
   "source": [
    "Display occurrence records over GAP range"
   ]
  },
  {
   "cell_type": "code",
   "execution_count": null,
   "metadata": {
    "scrolled": true
   },
   "outputs": [],
   "source": [
    "gap_range2 = \"{0}{1}_presence2001_4326\".format(outDir, gap_id)\n",
    "\n",
    "shp1 = {'file': gap_range2, 'column': None, 'alias': 'GAP 2001v1 range map - presence',\n",
    "        'drawbounds': False, 'linewidth': .5, 'linecolor': 'gainsboro',\n",
    "        'fillcolor': 'gainsboro', 'marker':'s'}\n",
    "\n",
    "shp2 = {'file': '{0}{1}_circles'.format(outDir, summary_name), 'column': None,\n",
    "        'alias': 'Occurrence records', 'drawbounds': True, 'linewidth': .75, 'linecolor': 'magenta',\n",
    "        'fillcolor': None, 'marker':'o'}\n",
    "\n",
    "# Display occurrence polygons\n",
    "title=\"{1} occurence records from {0}\".format(years[0] + \" - \" + years[-1], sci_name)\n",
    "functions.MapShapefilePolygons(map_these=[shp1, shp2], title=title)"
   ]
  },
  {
   "cell_type": "markdown",
   "metadata": {},
   "source": [
    "# Compile the GAP 2020v1 range map"
   ]
  },
  {
   "cell_type": "code",
   "execution_count": null,
   "metadata": {},
   "outputs": [],
   "source": [
    "functions.compile_GAP_presence(eval_id=eval_id, gap_id=gap_id, eval_db=eval_db, cutoff_year=2015, parameters_db=parameters_db,\n",
    "                         outDir=outDir, codeDir=codeDir)"
   ]
  },
  {
   "cell_type": "markdown",
   "metadata": {},
   "source": [
    "# Results"
   ]
  },
  {
   "cell_type": "markdown",
   "metadata": {},
   "source": [
    "## Newly Compiled Presence Map\n",
    "\n",
    "### Status definitions\n",
    "__Confirmed present__ - The species' presence is documented with sufficient data from the past 5 years.\n",
    "\n",
    "__Likely present__ - There is strong evidence to suggest the species' presence, but presence is not documented.\n",
    "\n",
    "__Suspected present__ - There is a compelling reason to believe that the species may be present.\n",
    "\n",
    "__Suspected absent__ - There is a compelling reason to believe that the species is absent.\n",
    "\n",
    "__Likely absent__ - There is strong evidence to suggest the species' absence.\n",
    "\n",
    "__NULL/NoData__ - There is no compelling reason to suspect that the species is present, but no explicit evidence of absence."
   ]
  },
  {
   "cell_type": "code",
   "execution_count": null,
   "metadata": {
    "scrolled": true
   },
   "outputs": [],
   "source": [
    "shp3 = {'file': '{0}{1}NB'.format(outDir, gap_id), 'column': 'presence', 'drawbounds': False,\n",
    "        'alias': 'presence', 'column_colors': {1: 'b', 2: 'lightsteelblue', 3:'gainsboro', 4:'goldenrod', 5:'darkgoldenrod'}, \n",
    "        'value_alias': {1:'Confirmed present', 2:'Likely present', 3:'Suspected present', 4:'Suspected absent', 5:'Likely absent'}, \n",
    "        'marker': \"s\"}\n",
    "\n",
    "title=\"{0} -- {1}\".format(common_name, 'GAP 2020v1 presence')\n",
    "\n",
    "try:\n",
    "    functions.MapShapefilePolygons(map_these=[shp3], title=title)\n",
    "except Exception as e:\n",
    "    print(e)"
   ]
  },
  {
   "cell_type": "markdown",
   "metadata": {},
   "source": [
    "### How many suitable records were available in the occurrence databases?"
   ]
  },
  {
   "cell_type": "code",
   "execution_count": null,
   "metadata": {},
   "outputs": [],
   "source": [
    "# Connect to the evaluation occurrence records database\n",
    "cursor, connr = functions.spatialite(eval_db)\n",
    "\n",
    "count = connr.execute(\"SELECT COUNT(occ_id) FROM evaluation_occurrences;\").fetchone()[0]\n",
    "print(str(count) + \" occurence records were suitable for the spatial assessment.\")"
   ]
  },
  {
   "cell_type": "markdown",
   "metadata": {},
   "source": [
    "### How many of the records were unusable because of their spatial attributes?"
   ]
  },
  {
   "cell_type": "code",
   "execution_count": null,
   "metadata": {},
   "outputs": [],
   "source": [
    "hucable = connr.execute(\"SELECT (SELECT COUNT(occ_id) FROM evaluation_occurrences) - (SELECT count(occ_id) FROM all_big_nuff);\").fetchall()[0]\n",
    "print(str(hucable[0]) + \" records were unusable due to their spatial attributes.\")"
   ]
  },
  {
   "cell_type": "markdown",
   "metadata": {},
   "source": [
    "### How many HUCs that overlaped a *RECENT* record had insufficient evidence of occurrence?"
   ]
  },
  {
   "cell_type": "code",
   "execution_count": null,
   "metadata": {},
   "outputs": [],
   "source": [
    "containers = connr.execute(\"SELECT COUNT(DISTINCT HUC12RNG) FROM intersected_recent WHERE HUC12RNG NOT IN (SELECT HUC12RNG FROM big_nuff_recent);\").fetchall()[0]\n",
    "print(str(containers[0]) + \" HUCs 'contained' insufficient portions of records for recent documentation of occurrence.\")"
   ]
  },
  {
   "cell_type": "markdown",
   "metadata": {},
   "source": [
    "### How many HUCs that overlaped a *HISTORICAL* record had insufficient evidence of occurrence?"
   ]
  },
  {
   "cell_type": "code",
   "execution_count": null,
   "metadata": {},
   "outputs": [],
   "source": [
    "containers = connr.execute(\"SELECT COUNT(DISTINCT HUC12RNG) FROM intersected_historical WHERE HUC12RNG NOT IN (SELECT HUC12RNG FROM big_nuff_historical);\").fetchall()[0]\n",
    "print(str(containers[0]) + \" HUCs 'contained' insufficient portions of records for historical documentation of occurrence.\")"
   ]
  },
  {
   "cell_type": "markdown",
   "metadata": {},
   "source": [
    "### What was the maximum weight of *RECENT* evidence for occurrence within a single HUC?"
   ]
  },
  {
   "cell_type": "code",
   "execution_count": null,
   "metadata": {},
   "outputs": [],
   "source": [
    "maxi = connr.execute(\"SELECT MAX(recent_weight) FROM presence;\").fetchall()[0]\n",
    "print(\"The maximum recent weight of evidence for presence in a HUC was \" + str(maxi[0]))"
   ]
  },
  {
   "cell_type": "markdown",
   "metadata": {},
   "source": [
    "### What was the maximum weight of *HISTORICAL* evidence for occurrence within a single HUC?"
   ]
  },
  {
   "cell_type": "code",
   "execution_count": null,
   "metadata": {},
   "outputs": [],
   "source": [
    "maxi = connr.execute(\"SELECT MAX(historical_weight) FROM presence;\").fetchall()[0]\n",
    "print(\"The maximum historical weight of evidence for presence in a HUC was \" + str(maxi[0]))"
   ]
  },
  {
   "cell_type": "markdown",
   "metadata": {},
   "source": [
    "# Database Cleanup"
   ]
  },
  {
   "cell_type": "code",
   "execution_count": null,
   "metadata": {},
   "outputs": [],
   "source": [
    "#functions.cleanup_eval_db(eval_db)"
   ]
  },
  {
   "cell_type": "markdown",
   "metadata": {},
   "source": [
    "# Timer"
   ]
  },
  {
   "cell_type": "code",
   "execution_count": null,
   "metadata": {},
   "outputs": [],
   "source": [
    "t2 = datetime.now()\n",
    "print(t2 - t1)"
   ]
  }
 ],
 "metadata": {
  "kernelspec": {
   "display_name": "Python 3",
   "language": "python",
   "name": "python3"
  },
  "language_info": {
   "codemirror_mode": {
    "name": "ipython",
    "version": 3
   },
   "file_extension": ".py",
   "mimetype": "text/x-python",
   "name": "python",
   "nbconvert_exporter": "python",
   "pygments_lexer": "ipython3",
   "version": "3.6.10"
  }
 },
 "nbformat": 4,
 "nbformat_minor": 2
}
